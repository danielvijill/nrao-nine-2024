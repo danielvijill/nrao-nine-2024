{
  "nbformat": 4,
  "nbformat_minor": 0,
  "metadata": {
    "colab": {
      "provenance": [],
      "authorship_tag": "ABX9TyM92zeZGbx4tQ+H6ZNisLiJ",
      "include_colab_link": true
    },
    "kernelspec": {
      "name": "python3",
      "display_name": "Python 3"
    },
    "language_info": {
      "name": "python"
    }
  },
  "cells": [
    {
      "cell_type": "markdown",
      "metadata": {
        "id": "view-in-github",
        "colab_type": "text"
      },
      "source": [
        "<a href=\"https://colab.research.google.com/github/danielvijill/nrao-nine-2024/blob/main/VLA/VLA_CASA_Imaging_Tutorial.ipynb\" target=\"_parent\"><img src=\"https://colab.research.google.com/assets/colab-badge.svg\" alt=\"Open In Colab\"/></a>"
      ]
    },
    {
      "cell_type": "markdown",
      "source": [
        "## NRAO NINE 2024\n",
        "\n",
        "---"
      ],
      "metadata": {
        "id": "kGlgk1LPtQyR"
      }
    },
    {
      "cell_type": "markdown",
      "source": [
        "# VLA CASA Imaging Tutorial\n",
        "\n",
        "by [Daniel Argueta Vijil](https://astrohn.wixsite.com/danielvijil)$^1$\n",
        "\n",
        "$^1$*Universidad Nacional Autónoma de Honduras, Tegucigalpa, Honduras*"
      ],
      "metadata": {
        "id": "MaxwRR2_tCo9"
      }
    },
    {
      "cell_type": "markdown",
      "source": [
        "### Accesing to the NRAO network"
      ],
      "metadata": {
        "id": "fLlZzCCKjxTk"
      }
    },
    {
      "cell_type": "markdown",
      "source": [
        "In order to access the NRAO network we need to introduce the command ```ssh username@ssh.cv.nrao.edu```, this will take you to polaris, do not run any heavy commands like casa in here."
      ],
      "metadata": {
        "id": "2ZdPYgJxkHa6"
      }
    },
    {
      "cell_type": "markdown",
      "source": [
        "If we wish to process data is is necessary that we work on a cvpost node we reserved, in order to reserve a node for, i.e. 5 days, we can type in the console ```ssh cvpost-master```, and then you can write ```nodescheduler -r 5```, this will reserve 1 node for 5 days."
      ],
      "metadata": {
        "id": "a5Zn8Bdqj1aI"
      }
    },
    {
      "cell_type": "markdown",
      "source": [
        "Once your node has been assigned, you will receive an email indicating the node you have been assigned or you can check by writing ```squeue``` in the cvpost-master."
      ],
      "metadata": {
        "id": "Ut8alS7Pk0Dn"
      }
    },
    {
      "cell_type": "markdown",
      "source": [
        "After you get your node, you can run the command `vncserver -list` to see your session number that looks like a colon followed by a number `:<sessionnumber>`, and in order to kill any session you type `vncserver -kill :<sessionnumber>`."
      ],
      "metadata": {
        "id": "uuWY9BX1r3rx"
      }
    },
    {
      "cell_type": "markdown",
      "source": [
        "Then in your local OS (FEDORA/DEBIAN/RED HAT/CENTOS/SL/OEL) you access in the terminal by writing `vncserver cvpost<postnumber>:<sessionnumber>`"
      ],
      "metadata": {
        "id": "4TU7bucgtOgj"
      }
    },
    {
      "cell_type": "code",
      "source": [],
      "metadata": {
        "id": "aP_oZGfmg8V8"
      },
      "execution_count": null,
      "outputs": []
    },
    {
      "cell_type": "markdown",
      "source": [
        "### Moving through file systems"
      ],
      "metadata": {
        "id": "QltZpLDilUAm"
      }
    },
    {
      "cell_type": "markdown",
      "source": [
        "In your console you can use basic linux commands to make your way through folders in your local computer and the lustre file system\n",
        "\n",
        "```pwd``` will display the current path you are in\n",
        "\n",
        "```ls``` will display the files and folders in your current location\n",
        "\n",
        "```ls -l``` will display the files and folders in your current location in the form of a list\n",
        "\n",
        "```ls -a``` will display the files and folders in your current location including the hidden ones\n",
        "\n",
        "```cd <foldername>``` will allow you to move to a specific folder\n",
        "\n",
        "```cd ..``` will allow you to move to the previous folder\n",
        "\n",
        "```mkdir <foldername>``` will create a new folder\n",
        "\n",
        "```rm -rf``` will forcefully and recursively remove a file or folder"
      ],
      "metadata": {
        "id": "iNiENcJclZvt"
      }
    },
    {
      "cell_type": "code",
      "source": [],
      "metadata": {
        "id": "6_pektomg7TJ"
      },
      "execution_count": null,
      "outputs": []
    },
    {
      "cell_type": "markdown",
      "source": [
        "### Downloading Data"
      ],
      "metadata": {
        "id": "sdOgnyRGmSPl"
      }
    },
    {
      "cell_type": "markdown",
      "source": [
        "We will be utilizing data taken with the Karl G. Jansky Very Large Array, of a supernova remnant G055.7+3.4. The data were taken on August 23, 2010, in the first D-configuration for which the new wide-band capabilities of the WIDAR (Wideband Interferometric Digital ARchitecture) correlator were available. The 8-hour-long observation includes all available 1 GHz of bandwidth in the L-band, from 1 - 2 GHz in frequency.\n",
        "\n",
        "All of the detailed references on the procedure can be found [here](https://casaguides.nrao.edu/index.php/VLA_CASA_Imaging-CASA6.5.4)"
      ],
      "metadata": {
        "id": "X4UnBqdMt8xW"
      }
    },
    {
      "cell_type": "markdown",
      "source": [
        "A copy of the calibrated data (1.2GB) can be downloaded from http://casa.nrao.edu/Data/EVLA/SNRG55/SNR_G55_10s.calib.tar.gz"
      ],
      "metadata": {
        "id": "nNPupeJpuNGv"
      }
    },
    {
      "cell_type": "markdown",
      "source": [
        "Your first step will be to unzip and untar the file in a terminal (before you start CASA):"
      ],
      "metadata": {
        "id": "BcO7To5tu-Ma"
      }
    },
    {
      "cell_type": "markdown",
      "source": [
        "`tar -xzvf  SNR_G55_10s.calib.tar.gz`"
      ],
      "metadata": {
        "id": "w8oyOtQavC2N"
      }
    },
    {
      "cell_type": "code",
      "source": [],
      "metadata": {
        "id": "Uwn-xkYNjv3l"
      },
      "execution_count": null,
      "outputs": []
    },
    {
      "cell_type": "markdown",
      "source": [
        "### Starting CASA"
      ],
      "metadata": {
        "id": "sgQyTf7mm7BR"
      }
    },
    {
      "cell_type": "markdown",
      "source": [
        "In order to use the tutorial we should preferrably be working with CASA version 6.5.4, we head to the folder in which the casa.exe file is located and then introduce the command line ```casa --nologger``` in the console.\n",
        "\n",
        "If you are vnc'd into the NRAO server you might as well just introduce the command `casa -r 6.5.4`"
      ],
      "metadata": {
        "id": "DWvDAk9tm9FT"
      }
    },
    {
      "cell_type": "code",
      "source": [],
      "metadata": {
        "id": "mm0iGv5qm8qn"
      },
      "execution_count": null,
      "outputs": []
    },
    {
      "cell_type": "markdown",
      "source": [
        "### Getting Familiarized with the Data"
      ],
      "metadata": {
        "id": "9xlkfNDAvl4r"
      }
    },
    {
      "cell_type": "markdown",
      "source": [
        "The first step is yo make a listobs of the measurement set, this will allow us to obtain more information on what is inside the data"
      ],
      "metadata": {
        "id": "r6c77Lvq-sSF"
      }
    },
    {
      "cell_type": "markdown",
      "source": [
        "`listobs(vis='SNR_G55_10s.calib.ms', listfile='SNR_G55_10s.calib.ms.listobs')`"
      ],
      "metadata": {
        "id": "7vG-4f3h_SGU"
      }
    },
    {
      "cell_type": "markdown",
      "source": [
        "This will return a file which you can open in the console and will give an output like this:"
      ],
      "metadata": {
        "id": "EbmdRVieLYvh"
      }
    },
    {
      "cell_type": "markdown",
      "source": [
        "| | | | | | | |\n",
        "|---|---|---|---|---|---|---|\n",
        "|Fields: 1| | | | | | |\n",
        "|  ID  | Code Name       |         RA          |     Decl       |    Epoch  | SrcId   |   nRows |\n",
        "|  0   | NONE G55.7+3.4      |     19:21:40.000000 |+21.45.00.00000| J2000  | 0     |   1280640 |\n",
        "\n",
        "| | | | | | | | | | |\n",
        "|---|---|---|---|---|---|---|---|---|---|\n",
        "|Spectral Windows:  | | | | | | |\n",
        " | SpwID | Name    |  #Chans |  Frame  | Ch0(MHz) | ChanWid(kHz) | TotBW(kHz) | CtrFreq(MHz) | BBC Num | Corrs |\n",
        " | 0   |   Subband:0   |  64 |  TOPO   | 1256.000    |  2000.000   | 128000.0 |  1319.0000    |    4 | RR  LL |\n",
        " | 1   |   Subband:2   |  64  | TOPO   | 1384.000   |   2000.000  |  128000.0 |  1447.0000   |     4  | RR  LL |\n",
        " | 2    |  Subband:1   |  64  | TOPO   | 1648.000  |    2000.000  |  128000.0 |  1711.0000    |    8  | RR  LL |\n",
        " | 3    |  Subband:0   |  64  | TOPO  |  1776.000  |    2000.000   | 128000.0 |  1839.0000    |    8  | RR  LL |\n",
        "\n",
        "| | | | | |\n",
        "|---|---|---|---|---|\n",
        "|Sources: 4| | | | |\n",
        " | ID |  Name        |        SpwId | RestFreq(MHz) | SysVel(km/s) |\n",
        " | 0  |  G55.7+3.4     |      0   |  -       |       - |\n",
        " | 0  |  G55.7+3.4     |      1   |  -       |       - |\n",
        " | 0  |  G55.7+3.4     |      2   |  -       |       - |\n",
        " | 0  |  G55.7+3.4     |      3   |  -       |       - |\n",
        "\n",
        "| | | | | | | | | | | |\n",
        "|---|---|---|---|---|---|---|---|---|---|---|\n",
        "| Antennas: 20: | | | | | | | | | | |\n",
        "  ID   Name  Station   Diam.    Long.         Lat.                Offset from array center (m)                ITRF Geocentric coordinates (m)\n",
        "                                                                     East         North     Elevation               x               y               z\n",
        "  0    ea01  W09       25.0 m   -107.37.25.2  +33.53.51.0       -521.9416     -332.7766       -1.2001 -1601710.017000 -5042006.925200  3554602.355600\n",
        "  1    ea02  E02       25.0 m   -107.37.04.4  +33.54.01.1          9.8240      -20.4293       -2.7806 -1601150.060300 -5042000.619800  3554860.729400\n",
        "  2    ea03  E09       25.0 m   -107.36.45.1  +33.53.53.6        506.0564     -251.8670       -3.5825 -1600715.950800 -5042273.187000  3554668.184500\n",
        "  4    ea05  W08       25.0 m   -107.37.21.6  +33.53.53.0       -432.1167     -272.1478       -1.5054 -1601614.091000 -5042001.652900  3554652.509300\n",
        "  6    ea07  E05       25.0 m   -107.36.58.4  +33.53.58.8        164.9788      -92.8032       -2.5268 -1601014.462000 -5042086.252000  3554800.799800\n",
        "  7    ea08  N01       25.0 m   -107.37.06.0  +33.54.01.8        -30.8810       -1.4664       -2.8597 -1601185.634945 -5041978.156586  3554876.424700\n",
        "  8    ea09  E06       25.0 m   -107.36.55.6  +33.53.57.7        236.9058     -126.3369       -2.4443 -1600951.588000 -5042125.911000  3554773.012300\n",
        "  9    ea10  N03       25.0 m   -107.37.06.3  +33.54.04.8        -39.0773       93.0192       -3.3330 -1601177.376760 -5041925.073200  3554954.584100\n",
        "  10   ea11  E04       25.0 m   -107.37.00.8  +33.53.59.7        102.8054      -63.7682       -2.6414 -1601068.790300 -5042051.910200  3554824.835300\n",
        "  11   ea12  E08       25.0 m   -107.36.48.9  +33.53.55.1        407.8285     -206.0065       -3.2272 -1600801.926000 -5042219.366500  3554706.448200\n",
        "  12   ea13  N07       25.0 m   -107.37.07.2  +33.54.12.9        -61.1037      344.2331       -4.6138 -1601155.635800 -5041783.843800  3555162.374100\n",
        "  13   ea15  W06       25.0 m   -107.37.15.6  +33.53.56.4       -275.8288     -166.7451       -2.0590 -1601447.198000 -5041992.502500  3554739.687600\n",
        "  16   ea18  N09       25.0 m   -107.37.07.8  +33.54.19.0        -77.4346      530.6273       -5.5859 -1601139.485100 -5041679.036800  3555316.533200\n",
        "  19   ea21  E01       25.0 m   -107.37.05.7  +33.53.59.2        -23.8638      -81.1510       -2.5851 -1601192.467800 -5042022.856800  3554810.438800\n",
        "  20   ea22  N04       25.0 m   -107.37.06.5  +33.54.06.1        -42.6239      132.8436       -3.5494 -1601173.979400 -5041902.657700  3554987.517500\n",
        "  21   ea23  E07       25.0 m   -107.36.52.4  +33.53.56.5        318.0509     -164.1850       -2.6957 -1600880.571400 -5042170.388000  3554741.457400\n",
        "  22   ea24  W05       25.0 m   -107.37.13.0  +33.53.57.8       -210.0959     -122.3887       -2.2577 -1601377.009500 -5041988.665500  3554776.393400\n",
        "  23   ea25  N02       25.0 m   -107.37.06.2  +33.54.03.5        -35.6245       53.1806       -3.1345 -1601180.861480 -5041947.453400  3554921.628700\n",
        "  25   ea27  E03       25.0 m   -107.37.02.8  +33.54.00.5         50.6641      -39.4835       -2.7273 -1601114.365500 -5042023.151800  3554844.944000\n",
        "  26   ea28  N08       25.0 m   -107.37.07.5  +33.54.15.8        -68.9057      433.1889       -5.0602 -1601147.940400 -5041733.837000  3555235.956000\n",
        "\n"
      ],
      "metadata": {
        "id": "ffNzIC2jSP-a"
      }
    },
    {
      "cell_type": "markdown",
      "source": [
        "### Defining Variables"
      ],
      "metadata": {
        "id": "xW_bLc52JwJt"
      }
    },
    {
      "cell_type": "markdown",
      "source": [
        "There are some variables you might want to define before running the clean command:\n",
        "\n",
        "\n",
        "\n",
        "*   `cell_size = '8arcsec'`. The size of the cell, usually recommended to be 3-5 pixels across the synthesized beam size, in this case 46 arcseconds\n",
        "*   `myvis = 'SNR_G55_10s.calib.ms'`\n",
        "*   \n",
        "\n"
      ],
      "metadata": {
        "id": "9EZieA4CJygS"
      }
    },
    {
      "cell_type": "code",
      "source": [],
      "metadata": {
        "id": "Xo9wXWq0_Q5Z"
      },
      "execution_count": null,
      "outputs": []
    },
    {
      "cell_type": "code",
      "source": [],
      "metadata": {
        "id": "8l960-nnvr-M"
      },
      "execution_count": null,
      "outputs": []
    }
  ]
}