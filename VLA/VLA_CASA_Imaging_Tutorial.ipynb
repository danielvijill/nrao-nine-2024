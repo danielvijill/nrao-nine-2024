{
  "nbformat": 4,
  "nbformat_minor": 0,
  "metadata": {
    "colab": {
      "provenance": [],
      "authorship_tag": "ABX9TyMuWMVq+48UtfG8DO5bTJqR",
      "include_colab_link": true
    },
    "kernelspec": {
      "name": "python3",
      "display_name": "Python 3"
    },
    "language_info": {
      "name": "python"
    }
  },
  "cells": [
    {
      "cell_type": "markdown",
      "metadata": {
        "id": "view-in-github",
        "colab_type": "text"
      },
      "source": [
        "<a href=\"https://colab.research.google.com/github/danielvijill/nrao-nine-2024/blob/main/VLA/VLA_CASA_Imaging_Tutorial.ipynb\" target=\"_parent\"><img src=\"https://colab.research.google.com/assets/colab-badge.svg\" alt=\"Open In Colab\"/></a>"
      ]
    },
    {
      "cell_type": "markdown",
      "source": [
        "## NRAO NINE 2024\n",
        "\n",
        "---"
      ],
      "metadata": {
        "id": "kGlgk1LPtQyR"
      }
    },
    {
      "cell_type": "markdown",
      "source": [
        "# VLA CASA Imaging Tutorial\n",
        "\n",
        "by [Daniel Argueta Vijil](https://astrohn.wixsite.com/danielvijil)$^1$\n",
        "\n",
        "$^1$*Universidad Nacional Autónoma de Honduras, Tegucigalpa, Honduras*"
      ],
      "metadata": {
        "id": "MaxwRR2_tCo9"
      }
    },
    {
      "cell_type": "markdown",
      "source": [
        "### Accesing to the NRAO network"
      ],
      "metadata": {
        "id": "fLlZzCCKjxTk"
      }
    },
    {
      "cell_type": "markdown",
      "source": [
        "In order to access the NRAO network we need to introduce the command ```ssh username@ssh.cv.nrao.edu```, this will take you to polaris, do not run any heavy commands like casa in here."
      ],
      "metadata": {
        "id": "2ZdPYgJxkHa6"
      }
    },
    {
      "cell_type": "markdown",
      "source": [
        "If we wish to process data is is necessary that we work on a cvpost node we reserved, in order to reserve a node for, i.e. 5 days, we can type in the console ```ssh cvpost-master```, and then you can write ```nodescheduler -r 5```, this will reserve 1 node for 5 days."
      ],
      "metadata": {
        "id": "a5Zn8Bdqj1aI"
      }
    },
    {
      "cell_type": "markdown",
      "source": [
        "Once your node has been assigned, you will receive an email indicating the node you have been assigned or you can check by writing ```squeue``` in the cvpost-master."
      ],
      "metadata": {
        "id": "Ut8alS7Pk0Dn"
      }
    },
    {
      "cell_type": "markdown",
      "source": [
        "After you get your node, you can run the command `vncserver -list` to see your session number that looks like a colon followed by a number `:<sessionnumber>`, and in order to kill any session you type `vncserver -kill :<sessionnumber>`."
      ],
      "metadata": {
        "id": "uuWY9BX1r3rx"
      }
    },
    {
      "cell_type": "markdown",
      "source": [
        "Then in your local OS (FEDORA/DEBIAN/RED HAT/CENTOS/SL/OEL) you access in the terminal by writing `vncserver cvpost<postnumber>:<sessionnumber>`"
      ],
      "metadata": {
        "id": "4TU7bucgtOgj"
      }
    },
    {
      "cell_type": "code",
      "source": [],
      "metadata": {
        "id": "aP_oZGfmg8V8"
      },
      "execution_count": null,
      "outputs": []
    },
    {
      "cell_type": "markdown",
      "source": [
        "### Moving through file systems"
      ],
      "metadata": {
        "id": "QltZpLDilUAm"
      }
    },
    {
      "cell_type": "markdown",
      "source": [
        "In your console you can use basic linux commands to make your way through folders in your local computer and the lustre file system\n",
        "\n",
        "```pwd``` will display the current path you are in\n",
        "\n",
        "```ls``` will display the files and folders in your current location\n",
        "\n",
        "```ls -l``` will display the files and folders in your current location in the form of a list\n",
        "\n",
        "```ls -a``` will display the files and folders in your current location including the hidden ones\n",
        "\n",
        "```cd <foldername>``` will allow you to move to a specific folder\n",
        "\n",
        "```cd ..``` will allow you to move to the previous folder\n",
        "\n",
        "```mkdir <foldername>``` will create a new folder\n",
        "\n",
        "```rm -rf``` will forcefully and recursively remove a file or folder"
      ],
      "metadata": {
        "id": "iNiENcJclZvt"
      }
    },
    {
      "cell_type": "code",
      "source": [],
      "metadata": {
        "id": "6_pektomg7TJ"
      },
      "execution_count": null,
      "outputs": []
    },
    {
      "cell_type": "markdown",
      "source": [
        "### Downloading Data"
      ],
      "metadata": {
        "id": "sdOgnyRGmSPl"
      }
    },
    {
      "cell_type": "markdown",
      "source": [
        "We will be utilizing data taken with the Karl G. Jansky Very Large Array, of a supernova remnant G055.7+3.4. The data were taken on August 23, 2010, in the first D-configuration for which the new wide-band capabilities of the WIDAR (Wideband Interferometric Digital ARchitecture) correlator were available. The 8-hour-long observation includes all available 1 GHz of bandwidth in the L-band, from 1 - 2 GHz in frequency.\n",
        "\n",
        "All of the detailed references on the procedure can be found [here](https://casaguides.nrao.edu/index.php/VLA_CASA_Imaging-CASA6.5.4)"
      ],
      "metadata": {
        "id": "X4UnBqdMt8xW"
      }
    },
    {
      "cell_type": "markdown",
      "source": [
        "A copy of the calibrated data (1.2GB) can be downloaded from http://casa.nrao.edu/Data/EVLA/SNRG55/SNR_G55_10s.calib.tar.gz"
      ],
      "metadata": {
        "id": "nNPupeJpuNGv"
      }
    },
    {
      "cell_type": "markdown",
      "source": [
        "Your first step will be to unzip and untar the file in a terminal (before you start CASA):"
      ],
      "metadata": {
        "id": "BcO7To5tu-Ma"
      }
    },
    {
      "cell_type": "markdown",
      "source": [
        "`tar -xzvf  SNR_G55_10s.calib.tar.gz`"
      ],
      "metadata": {
        "id": "w8oyOtQavC2N"
      }
    },
    {
      "cell_type": "code",
      "source": [],
      "metadata": {
        "id": "Uwn-xkYNjv3l"
      },
      "execution_count": null,
      "outputs": []
    },
    {
      "cell_type": "markdown",
      "source": [
        "### Starting CASA"
      ],
      "metadata": {
        "id": "sgQyTf7mm7BR"
      }
    },
    {
      "cell_type": "markdown",
      "source": [
        "In order to use the tutorial we should preferrably be working with CASA version 6.5.4, we head to the folder in which the casa.exe file is located and then introduce the command line ```casa --nologger``` in the console.\n",
        "\n",
        "If you are vnc'd into the NRAO server you might as well just introduce the command `casa -r 6.5.4`"
      ],
      "metadata": {
        "id": "DWvDAk9tm9FT"
      }
    },
    {
      "cell_type": "code",
      "source": [],
      "metadata": {
        "id": "mm0iGv5qm8qn"
      },
      "execution_count": null,
      "outputs": []
    },
    {
      "cell_type": "markdown",
      "source": [
        "### Getting Familiarized with the Data"
      ],
      "metadata": {
        "id": "9xlkfNDAvl4r"
      }
    },
    {
      "cell_type": "markdown",
      "source": [
        "The first step is yo make a listobs of the measurement set, this will allow us to obtain more information on what is inside the data"
      ],
      "metadata": {
        "id": "r6c77Lvq-sSF"
      }
    },
    {
      "cell_type": "markdown",
      "source": [
        "`listobs(vis='SNR_G55_10s.calib.ms', listfile='SNR_G55_10s.calib.ms.listobs')`"
      ],
      "metadata": {
        "id": "7vG-4f3h_SGU"
      }
    },
    {
      "cell_type": "markdown",
      "source": [
        "This will return a file which you can open in the console and will give an output like this:"
      ],
      "metadata": {
        "id": "EbmdRVieLYvh"
      }
    },
    {
      "cell_type": "markdown",
      "source": [
        "`Fields: 4\n",
        "ID  Code Name                RA               Decl           Epoch   SrcId      nRows\n",
        "2    D    J0954+1743          09:54:56.823626 +17.43.31.22243 J2000   2          65326\n",
        "3    NONE IRC+10216           09:47:57.382000 +13.16.40.65999 J2000   3         208242\n",
        "5    F    J1229+0203          12:29:06.699729 +02.03.08.59820 J2000   5          10836\n",
        "7    E    J1331+3030          13:31:08.287984 +30.30.32.95886 J2000   7           5814\n",
        "Spectral Windows:  (2 unique spectral windows and 1 unique polarization setups)\n",
        "SpwID  Name      #Chans   Frame   Ch0(MHz)  ChanWid(kHz)  TotBW(kHz) CtrFreq(MHz)  Corrs          \n",
        "0      Subband:0     64   TOPO   36387.229       125.000      8000.0  36391.1670   RR  RL  LR  LL\n",
        "1      Subband:0     64   TOPO   36304.542       125.000      8000.0  36308.4795   RR  RL  LR  LL\n",
        "Sources: 10\n",
        "ID   Name                SpwId RestFreq(MHz)  SysVel(km/s)\n",
        "0    J1008+0730          0     0.03639232     -0.026       \n",
        "0    J1008+0730          1     0.03639232     -0.026       \n",
        "2    J0954+1743          0     0.03639232     -0.026       \n",
        "2    J0954+1743          1     0.03639232     -0.026       \n",
        "3    IRC+10216           0     0.03639232     -0.026       \n",
        "3    IRC+10216           1     0.03639232     -0.026       \n",
        "5    J1229+0203          0     0.03639232     -0.026       \n",
        "5    J1229+0203          1     0.03639232     -0.026       \n",
        "7    J1331+3030          0     0.03639232     -0.026       \n",
        "7    J1331+3030          1     0.03639232     -0.026       \n",
        "Antennas: 19:\n",
        "ID   Name  Station   Diam.    Long.         Lat.                Offset from array center (m)                ITRF Geocentric coordinates (m)        \n",
        "\t                                                                     East         North     Elevation               x               y               z\n",
        "0    ea01  W09       25.0 m   -107.37.25.2  +33.53.51.0       -521.9407     -332.7782       -1.1977 -1601710.017000 -5042006.928200  3554602.355600\n",
        "1    ea02  E02       25.0 m   -107.37.04.4  +33.54.01.1          9.8247      -20.4292       -2.7808 -1601150.059500 -5042000.619800  3554860.729400\n",
        "2    ea03  E09       25.0 m   -107.36.45.1  +33.53.53.6        506.0591     -251.8666       -3.5832 -1600715.948000 -5042273.187000  3554668.184500\n",
        "3    ea04  W01       25.0 m   -107.37.05.9  +33.54.00.5        -27.3562      -41.3030       -2.7418 -1601189.030140 -5042000.493300  3554843.425700\n",
        "4    ea05  W08       25.0 m   -107.37.21.6  +33.53.53.0       -432.1158     -272.1493       -1.5032 -1601614.091000 -5042001.655700  3554652.509300\n",
        "5    ea07  N06       25.0 m   -107.37.06.9  +33.54.10.3        -54.0667      263.8720       -4.2292 -1601162.593200 -5041829.000000  3555095.890500\n",
        "6    ea08  N01       25.0 m   -107.37.06.0  +33.54.01.8        -30.8810       -1.4664       -2.8597 -1601185.634945 -5041978.156586  3554876.424700\n",
        "7    ea09  E06       25.0 m   -107.36.55.6  +33.53.57.7        236.9058     -126.3369       -2.4443 -1600951.588000 -5042125.911000  3554773.012300\n",
        "8    ea12  E08       25.0 m   -107.36.48.9  +33.53.55.1        407.8394     -206.0057       -3.2252 -1600801.916000 -5042219.371000  3554706.449900\n",
        "9    ea15  W06       25.0 m   -107.37.15.6  +33.53.56.4       -275.8288     -166.7451       -2.0590 -1601447.198000 -5041992.502500  3554739.687600\n",
        "10   ea19  W04       25.0 m   -107.37.10.8  +33.53.59.1       -152.8599      -83.8054       -2.4614 -1601315.893000 -5041985.320170  3554808.304600\n",
        "11   ea20  N05       25.0 m   -107.37.06.7  +33.54.08.0        -47.8454      192.6015       -3.8723 -1601168.786100 -5041869.054000  3555036.936000\n",
        "12   ea21  E01       25.0 m   -107.37.05.7  +33.53.59.2        -23.8638      -81.1510       -2.5851 -1601192.467800 -5042022.856800  3554810.438800\n",
        "13   ea22  N04       25.0 m   -107.37.06.5  +33.54.06.1        -42.5986      132.8623       -3.5431 -1601173.953700 -5041902.660400  3554987.536500\n",
        "14   ea23  E07       25.0 m   -107.36.52.4  +33.53.56.5        318.0523     -164.1848       -2.6960 -1600880.570000 -5042170.388000  3554741.457400\n",
        "15   ea24  W05       25.0 m   -107.37.13.0  +33.53.57.8       -210.0944     -122.3885       -2.2581 -1601377.008000 -5041988.665500  3554776.393400\n",
        "16   ea25  N02       25.0 m   -107.37.06.2  +33.54.03.5        -35.6245       53.1806       -3.1345 -1601180.861480 -5041947.453400  3554921.628700\n",
        "17   ea27  E03       25.0 m   -107.37.02.8  +33.54.00.5         50.6647      -39.4832       -2.7249 -1601114.365500 -5042023.153700  3554844.945600\n",
        "18   ea28  N08       25.0 m   -107.37.07.5  +33.54.15.8        -68.9057      433.1889       -5.0602 -1601147.940400 -5041733.837000  3555235.956000`"
      ],
      "metadata": {
        "id": "EDhIIFesqL-B"
      }
    },
    {
      "cell_type": "markdown",
      "source": [
        "### Defining Variables"
      ],
      "metadata": {
        "id": "xW_bLc52JwJt"
      }
    },
    {
      "cell_type": "markdown",
      "source": [
        "There are some variables you might want to define before running the clean command:\n",
        "\n",
        "\n",
        "\n",
        "*   `cell_size = '8arcsec'`. The size of the cell, usually recommended to be 3-5 pixels across the synthesized beam size, in this case 46 arcseconds\n",
        "*   `myvis = 'SNR_G55_10s.calib.ms'`\n",
        "*   \n",
        "\n"
      ],
      "metadata": {
        "id": "9EZieA4CJygS"
      }
    },
    {
      "cell_type": "code",
      "source": [],
      "metadata": {
        "id": "Xo9wXWq0_Q5Z"
      },
      "execution_count": null,
      "outputs": []
    },
    {
      "cell_type": "code",
      "source": [],
      "metadata": {
        "id": "8l960-nnvr-M"
      },
      "execution_count": null,
      "outputs": []
    }
  ]
}