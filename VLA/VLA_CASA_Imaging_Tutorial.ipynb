{
  "nbformat": 4,
  "nbformat_minor": 0,
  "metadata": {
    "colab": {
      "provenance": [],
      "authorship_tag": "ABX9TyN9Aielgjp6kLVbxNfxHlQc",
      "include_colab_link": true
    },
    "kernelspec": {
      "name": "python3",
      "display_name": "Python 3"
    },
    "language_info": {
      "name": "python"
    }
  },
  "cells": [
    {
      "cell_type": "markdown",
      "metadata": {
        "id": "view-in-github",
        "colab_type": "text"
      },
      "source": [
        "<a href=\"https://colab.research.google.com/github/danielvijill/nrao-nine-2024/blob/main/VLA/VLA_CASA_Imaging_Tutorial.ipynb\" target=\"_parent\"><img src=\"https://colab.research.google.com/assets/colab-badge.svg\" alt=\"Open In Colab\"/></a>"
      ]
    },
    {
      "cell_type": "markdown",
      "source": [
        "## NRAO NINE 2024\n",
        "\n",
        "---"
      ],
      "metadata": {
        "id": "kGlgk1LPtQyR"
      }
    },
    {
      "cell_type": "markdown",
      "source": [
        "# VLA CASA Imaging Tutorial\n",
        "\n",
        "by [Daniel Argueta Vijil](https://astrohn.wixsite.com/danielvijil)$^1$\n",
        "\n",
        "$^1$*Universidad Nacional Autónoma de Honduras, Tegucigalpa, Honduras*"
      ],
      "metadata": {
        "id": "MaxwRR2_tCo9"
      }
    },
    {
      "cell_type": "markdown",
      "source": [
        "### Accesing to the NRAO network"
      ],
      "metadata": {
        "id": "fLlZzCCKjxTk"
      }
    },
    {
      "cell_type": "markdown",
      "source": [
        "In order to access the NRAO network we need to introduce the command ```ssh username@ssh.cv.nrao.edu```, this will take you to polaris, do not run any heavy commands like casa in here."
      ],
      "metadata": {
        "id": "2ZdPYgJxkHa6"
      }
    },
    {
      "cell_type": "markdown",
      "source": [
        "If we wish to process data is is necessary that we work on a cvpost node we reserved, in order to reserve a node for, i.e. 5 days, we can type in the console ```ssh cvpost-master```, and then you can write ```nodescheduler -r 5```, this will reserve 1 node for 5 days."
      ],
      "metadata": {
        "id": "a5Zn8Bdqj1aI"
      }
    },
    {
      "cell_type": "markdown",
      "source": [
        "Once your node has been assigned, you will receive an email indicating the node you have been assigned or you can check by writing ```squeue``` in the cvpost-master."
      ],
      "metadata": {
        "id": "Ut8alS7Pk0Dn"
      }
    },
    {
      "cell_type": "markdown",
      "source": [
        "After you get your node, you can run the command `vncserver -list` to see your session number that looks like a colon followed by a number `:<sessionnumber>`, and in order to kill any session you type `vncserver -kill :<sessionnumber>`."
      ],
      "metadata": {
        "id": "uuWY9BX1r3rx"
      }
    },
    {
      "cell_type": "markdown",
      "source": [
        "Then in your local OS (FEDORA/DEBIAN/RED HAT/CENTOS/SL/OEL) you access in the terminal by writing `vncserver cvpost<postnumber>:<sessionnumber>`"
      ],
      "metadata": {
        "id": "4TU7bucgtOgj"
      }
    },
    {
      "cell_type": "code",
      "source": [],
      "metadata": {
        "id": "aP_oZGfmg8V8"
      },
      "execution_count": null,
      "outputs": []
    },
    {
      "cell_type": "markdown",
      "source": [
        "### Moving through file systems"
      ],
      "metadata": {
        "id": "QltZpLDilUAm"
      }
    },
    {
      "cell_type": "markdown",
      "source": [
        "In your console you can use basic linux commands to make your way through folders in your local computer and the lustre file system\n",
        "\n",
        "```pwd``` will display the current path you are in\n",
        "\n",
        "```ls``` will display the files and folders in your current location\n",
        "\n",
        "```ls -l``` will display the files and folders in your current location in the form of a list\n",
        "\n",
        "```ls -a``` will display the files and folders in your current location including the hidden ones\n",
        "\n",
        "```cd <foldername>``` will allow you to move to a specific folder\n",
        "\n",
        "```cd ..``` will allow you to move to the previous folder\n",
        "\n",
        "```mkdir <foldername>``` will create a new folder\n",
        "\n",
        "```rm -rf``` will forcefully and recursively remove a file or folder"
      ],
      "metadata": {
        "id": "iNiENcJclZvt"
      }
    },
    {
      "cell_type": "code",
      "source": [],
      "metadata": {
        "id": "6_pektomg7TJ"
      },
      "execution_count": null,
      "outputs": []
    },
    {
      "cell_type": "markdown",
      "source": [
        "### Downloading Data"
      ],
      "metadata": {
        "id": "sdOgnyRGmSPl"
      }
    },
    {
      "cell_type": "markdown",
      "source": [
        "We will be utilizing data taken with the Karl G. Jansky Very Large Array, of a supernova remnant G055.7+3.4. The data were taken on August 23, 2010, in the first D-configuration for which the new wide-band capabilities of the WIDAR (Wideband Interferometric Digital ARchitecture) correlator were available. The 8-hour-long observation includes all available 1 GHz of bandwidth in the L-band, from 1 - 2 GHz in frequency.\n",
        "\n",
        "All of the detailed references on the procedure can be found [here](https://casaguides.nrao.edu/index.php/VLA_CASA_Imaging-CASA6.5.4)"
      ],
      "metadata": {
        "id": "X4UnBqdMt8xW"
      }
    },
    {
      "cell_type": "markdown",
      "source": [
        "A copy of the calibrated data (1.2GB) can be downloaded from http://casa.nrao.edu/Data/EVLA/SNRG55/SNR_G55_10s.calib.tar.gz"
      ],
      "metadata": {
        "id": "nNPupeJpuNGv"
      }
    },
    {
      "cell_type": "markdown",
      "source": [
        "Your first step will be to unzip and untar the file in a terminal (before you start CASA):"
      ],
      "metadata": {
        "id": "BcO7To5tu-Ma"
      }
    },
    {
      "cell_type": "markdown",
      "source": [
        "`tar -xzvf  SNR_G55_10s.calib.tar.gz`"
      ],
      "metadata": {
        "id": "w8oyOtQavC2N"
      }
    },
    {
      "cell_type": "code",
      "source": [],
      "metadata": {
        "id": "Uwn-xkYNjv3l"
      },
      "execution_count": null,
      "outputs": []
    },
    {
      "cell_type": "markdown",
      "source": [
        "### Starting CASA"
      ],
      "metadata": {
        "id": "sgQyTf7mm7BR"
      }
    },
    {
      "cell_type": "markdown",
      "source": [
        "In order to use the tutorial we should preferrably be working with CASA version 6.5.4, we head to the folder in which the casa.exe file is located and then introduce the command line ```casa --nologger``` in the console.\n",
        "\n",
        "If you are vnc'd into the NRAO server you might as well just introduce the command `casa -r 6.5.4`"
      ],
      "metadata": {
        "id": "DWvDAk9tm9FT"
      }
    },
    {
      "cell_type": "code",
      "source": [],
      "metadata": {
        "id": "mm0iGv5qm8qn"
      },
      "execution_count": null,
      "outputs": []
    },
    {
      "cell_type": "markdown",
      "source": [
        "### Getting Familiarized with the Data"
      ],
      "metadata": {
        "id": "9xlkfNDAvl4r"
      }
    },
    {
      "cell_type": "markdown",
      "source": [
        "The first step is yo make a listobs of the measurement set, this will allow us to obtain more information on what is inside the data"
      ],
      "metadata": {
        "id": "r6c77Lvq-sSF"
      }
    },
    {
      "cell_type": "markdown",
      "source": [
        "`listobs(vis='SNR_G55_10s.calib.ms', listfile='SNR_G55_10s.calib.ms.listobs')`"
      ],
      "metadata": {
        "id": "7vG-4f3h_SGU"
      }
    },
    {
      "cell_type": "markdown",
      "source": [
        "This will return a file which you can open in the console and will give an output like this:"
      ],
      "metadata": {
        "id": "EbmdRVieLYvh"
      }
    },
    {
      "cell_type": "markdown",
      "source": [
        "### Defining Variables"
      ],
      "metadata": {
        "id": "xW_bLc52JwJt"
      }
    },
    {
      "cell_type": "markdown",
      "source": [
        "There are some variables you might want to define before running the clean command:\n",
        "\n",
        "\n",
        "\n",
        "*   `cell_size = '8arcsec'`. The size of the cell, usually recommended to be 3-5 pixels across the synthesized beam size, in this case 46 arcseconds\n",
        "*   `myvis = 'SNR_G55_10s.calib.ms'`\n",
        "*   \n",
        "\n"
      ],
      "metadata": {
        "id": "9EZieA4CJygS"
      }
    },
    {
      "cell_type": "code",
      "source": [],
      "metadata": {
        "id": "Xo9wXWq0_Q5Z"
      },
      "execution_count": null,
      "outputs": []
    },
    {
      "cell_type": "code",
      "source": [],
      "metadata": {
        "id": "8l960-nnvr-M"
      },
      "execution_count": null,
      "outputs": []
    }
  ]
}