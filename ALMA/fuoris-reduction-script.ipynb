#Daniel Vijil
#Version 3.5

#Should be placed in a folder with the calibrated folder
import os

targetname='V899'

copying=False
if copying:
  os.system('mkdir working')
  os.system('cp -r calibrated/'+targetname+'_cal.ms working/'+targetname+'_cal.ms ')

  ovis = targetname+'_cal.ms'
  contvis=targetname+'_cont_avg.ms'

  #First split the ms to extract the target

  print('Now visualize the data and determine useful field and spws with plotms')

os.system('cd working')
#os.system('rm -rf '+contvis +'*')

splitting=False

if splitting:
  split(vis=ovis,
      outputvis=contvis,
      field='',
      datacolumn='corrected',
      spw='',
      width='16',
      intent='*OBSERVE_TARGET*')

  print('Now visualize the data and determine channels to flag on each spw with plotms')

#Then flag it

flagging=False
if flagging:
  flagdata(vis=contvis,
	 mode='manual',
	 spw='',
	 flagbackup=False)

  contvis=targetname+'_cont_flagged_avg.ms'

  print('Now proceded to cleaning, introduce cell size and phasecenter manually')


#Listobs
listobsgen=False

if listobsgen:
    #os.system('rm -rf '+contvis+'.listobs.txt')
    listobs(vis=contvis,
      listfile=contvis+'.listobs.txt',
      overwrite=True)
    os.system('more '+ contvis+'.listobs.txt')



tcleanparameterset=True
if tcleanparameterset:
     cell_LB = '0.015arcsec' #
     phasecenter='J2000 04h31m34.077 +18d08m04.900' #Found in listobs or in the ALMA archive


clean1=False
if clean1:

     #Set parameters for tclean

     contimagename=targetname+'_img_briggs_nonselfcal'

     for ext in ['.image','.mask','.model','.image.pbcor','.psf','.residual','.pb','.sumwt']:
            rmtables(contimagename+ext)


     tclean(vis=contvis,
	    imagename=contimagename,
	    field='0',
	    spw='0,1,2,3,4',
	    weighting='briggs',
	    robust=0.5,
	    threshold='1e-8Jy',
	    niter=10000,
	    imsize=[3456, 3456],
	    pbcor=True,
	    interactive=True,
	    cell=cell_LB,
	    datacolumn='corrected',
	    phasecenter=phasecenter)

clean2=False
if clean2:

     #Set parameters for tclean

     contimagename=targetname+'_img_natural_nonselfcal'

     for ext in ['.image','.mask','.model','.image.pbcor','.psf','.residual','.pb','.sumwt']:
            rmtables(contimagename+ext)


     tclean(vis=contvis,
	    imagename=contimagename,
	    field='0',
	    spw='0,1,2,3,4',
	    weighting='natural',
	    robust=0.5,
	    threshold='1e-8Jy',
	    niter=10000,
	    imsize=[3456, 3456],
	    pbcor=True,
	    interactive=True,
	    cell=cell_LB,
	    datacolumn='corrected',
	    phasecenter=phasecenter)

# #If cleaning with existing mask:

#     tclean(vis=inputvis,
# 	imagename=imagename,
# 	field='0',
# 	spw='0,1,2,3,4',
# 	weighting='briggs',
# 	robust=0.5,
# 	threshold='1e-8Jy',
# 	niter=10000,
# 	imsize=[3456, 3456],
# 	pbcor=True,
# 	interactive=True,
# 	cell=cell_LB,
# 	mask='L1551_img_briggs.mask',
# 	datacolumn='corrected',
# 	phasecenter=phasecenter)

snr = False
if snr:
	for label in ['']:
	   stats_all = imstat(imagename=contimagename +'_'+label+'.image.pbcor')
	   maxi = stats_all['max']
	   box_rms = '320, 100, 1900, 200'
	   stats_rms = imstat(imagename=contimagename +'_' +label+'.image.pbcor', box=box_rms)
	   rms = stats_rms['rms']
	   print(label+" NO selfcal:  peak %.3e (Jy/beam) and rms %.3e"  %(maxi,rms))
	   print(" SNR NO selfcal = %.3f \n" % (maxi/rms))

